{
 "cells": [
  {
   "cell_type": "code",
   "execution_count": 1,
   "metadata": {},
   "outputs": [],
   "source": [
    "#Import Packages\n",
    "from selenium import webdriver\n",
    "import time\n",
    "import pandas as pd\n",
    "import os"
   ]
  },
  {
   "cell_type": "code",
   "execution_count": 2,
   "metadata": {},
   "outputs": [],
   "source": [
    "#Import Packages\n",
    "\n",
    "from selenium.webdriver.support.select import Select\n",
    "from selenium.webdriver.support.ui import WebDriverWait\n",
    "from selenium.webdriver.common.by import By\n",
    "from selenium.webdriver.chrome.service import Service\n",
    "from selenium.webdriver.support import expected_conditions as EC"
   ]
  },
  {
   "cell_type": "code",
   "execution_count": 3,
   "metadata": {},
   "outputs": [],
   "source": [
    "#Use this Url and change city or role accordingly\n",
    "\n",
    "url1='https://www.linkedin.com/jobs/search?keywords=Marketing%20Data%20Analyst&location=Berlin%2C%20Berlin%2C%20Germany&geoId=106967730&trk=public_jobs_jobs-search-bar_search-submit&position=1&pageNum=0'"
   ]
  },
  {
   "cell_type": "code",
   "execution_count": 4,
   "metadata": {},
   "outputs": [],
   "source": [
    "#Load the web driver and get the url\n",
    "\n",
    "driver = webdriver.Chrome()\n",
    "driver.implicitly_wait(10)\n",
    "driver.get(url1)"
   ]
  },
  {
   "cell_type": "code",
   "execution_count": 5,
   "metadata": {},
   "outputs": [],
   "source": [
    "#Find number of job listings\n",
    "\n",
    "y=driver.find_element(By.CLASS_NAME, \"results-context-header__job-count\").text"
   ]
  },
  {
   "cell_type": "code",
   "execution_count": 6,
   "metadata": {},
   "outputs": [
    {
     "data": {
      "text/plain": [
       "str"
      ]
     },
     "execution_count": 6,
     "metadata": {},
     "output_type": "execute_result"
    }
   ],
   "source": [
    "type(y)"
   ]
  },
  {
   "cell_type": "code",
   "execution_count": 7,
   "metadata": {},
   "outputs": [],
   "source": [
    "n=pd.to_numeric(y)"
   ]
  },
  {
   "cell_type": "code",
   "execution_count": 8,
   "metadata": {},
   "outputs": [
    {
     "data": {
      "text/plain": [
       "148"
      ]
     },
     "execution_count": 8,
     "metadata": {},
     "output_type": "execute_result"
    }
   ],
   "source": [
    "n"
   ]
  },
  {
   "cell_type": "code",
   "execution_count": 9,
   "metadata": {},
   "outputs": [],
   "source": [
    "#Loop to scroll through all jobs and click on see more jobs button for infinite scrolling\n",
    "\n",
    "i = 2\n",
    "while i <= int((n+200)/25)+1: \n",
    "    driver.execute_script(\"window.scrollTo(0, document.body.scrollHeight);\")\n",
    "    i = i + 1\n",
    "    \n",
    "    try:\n",
    "        send=driver.find_element(By.CSS_SELECTOR,\"button[data-tracking-control-name='infinite-scroller_show-more']\")\n",
    "        driver.execute_script(\"arguments[0].click();\", send)\n",
    "        time.sleep(3)\n",
    "    \n",
    "    except:\n",
    "        pass\n",
    "        time.sleep(5)\n",
    "         "
   ]
  },
  {
   "cell_type": "code",
   "execution_count": 10,
   "metadata": {},
   "outputs": [],
   "source": [
    "#Create empty lists for company name and job title\n",
    "\n",
    "companyname= []\n",
    "titlename= []"
   ]
  },
  {
   "cell_type": "code",
   "execution_count": 11,
   "metadata": {},
   "outputs": [
    {
     "name": "stdout",
     "output_type": "stream",
     "text": [
      "no\n"
     ]
    }
   ],
   "source": [
    "#Find company name and append it to the blank list\n",
    "\n",
    "try:\n",
    "    for i in range(n):\n",
    "        company=driver.find_elements(By.CLASS_NAME,'base-search-card__subtitle')[i].text\n",
    "        companyname.append(company)\n",
    "        \n",
    "except IndexError:\n",
    "    print(\"no\")\n",
    "        "
   ]
  },
  {
   "cell_type": "code",
   "execution_count": 12,
   "metadata": {},
   "outputs": [
    {
     "data": {
      "text/plain": [
       "147"
      ]
     },
     "execution_count": 12,
     "metadata": {},
     "output_type": "execute_result"
    }
   ],
   "source": [
    "len(companyname)"
   ]
  },
  {
   "cell_type": "code",
   "execution_count": 13,
   "metadata": {},
   "outputs": [
    {
     "name": "stdout",
     "output_type": "stream",
     "text": [
      "no\n"
     ]
    }
   ],
   "source": [
    "#Find title name and append it to the blank list\n",
    "\n",
    "try:\n",
    "    for i in range(n):        \n",
    "        title=driver.find_elements(By.CLASS_NAME,'base-search-card__title')[i].text\n",
    "        titlename.append(title)\n",
    "        \n",
    "except IndexError:\n",
    "    print(\"no\")\n",
    "        \n",
    "    \n",
    "    "
   ]
  },
  {
   "cell_type": "code",
   "execution_count": 14,
   "metadata": {},
   "outputs": [
    {
     "data": {
      "text/plain": [
       "147"
      ]
     },
     "execution_count": 14,
     "metadata": {},
     "output_type": "execute_result"
    }
   ],
   "source": [
    "len(titlename)\n"
   ]
  },
  {
   "cell_type": "code",
   "execution_count": 15,
   "metadata": {},
   "outputs": [],
   "source": [
    "#Create dataframe for company name and title\n",
    "\n",
    "companyfinal=pd.DataFrame(companyname,columns=[\"company\"])\n",
    "titlefinal=pd.DataFrame(titlename,columns=[\"title\"])"
   ]
  },
  {
   "cell_type": "code",
   "execution_count": 16,
   "metadata": {},
   "outputs": [],
   "source": [
    "#Join the two lists\n",
    "\n",
    "x=companyfinal.join(titlefinal)"
   ]
  },
  {
   "cell_type": "code",
   "execution_count": 17,
   "metadata": {},
   "outputs": [
    {
     "data": {
      "text/html": [
       "<div>\n",
       "<style scoped>\n",
       "    .dataframe tbody tr th:only-of-type {\n",
       "        vertical-align: middle;\n",
       "    }\n",
       "\n",
       "    .dataframe tbody tr th {\n",
       "        vertical-align: top;\n",
       "    }\n",
       "\n",
       "    .dataframe thead th {\n",
       "        text-align: right;\n",
       "    }\n",
       "</style>\n",
       "<table border=\"1\" class=\"dataframe\">\n",
       "  <thead>\n",
       "    <tr style=\"text-align: right;\">\n",
       "      <th></th>\n",
       "      <th>company</th>\n",
       "      <th>title</th>\n",
       "    </tr>\n",
       "  </thead>\n",
       "  <tbody>\n",
       "    <tr>\n",
       "      <th>0</th>\n",
       "      <td>Wayfair</td>\n",
       "      <td>Marketing Analyst - Paid Social (M/F/D)</td>\n",
       "    </tr>\n",
       "    <tr>\n",
       "      <th>1</th>\n",
       "      <td>IU International University of Applied Sciences</td>\n",
       "      <td>Duales Studium E-Commerce (B.A.) am Campus ode...</td>\n",
       "    </tr>\n",
       "    <tr>\n",
       "      <th>2</th>\n",
       "      <td>TUI</td>\n",
       "      <td>Referent Web Analyst (m/w/d) mit Fokus Marketi...</td>\n",
       "    </tr>\n",
       "    <tr>\n",
       "      <th>3</th>\n",
       "      <td>AOK Systems GmbH</td>\n",
       "      <td>Business Analyst (m/w/d) für die EE Krankenhaus</td>\n",
       "    </tr>\n",
       "    <tr>\n",
       "      <th>4</th>\n",
       "      <td>IU International University of Applied Sciences</td>\n",
       "      <td>Duales Studium Immobilienwirtschaft (B.A.) am ...</td>\n",
       "    </tr>\n",
       "    <tr>\n",
       "      <th>...</th>\n",
       "      <td>...</td>\n",
       "      <td>...</td>\n",
       "    </tr>\n",
       "    <tr>\n",
       "      <th>142</th>\n",
       "      <td>Saxovent</td>\n",
       "      <td>Business Analyst Renewables (all genders)</td>\n",
       "    </tr>\n",
       "    <tr>\n",
       "      <th>143</th>\n",
       "      <td>Enpal Montage GmbH</td>\n",
       "      <td>Growth &amp; Expansion Analyst (w/m/d)</td>\n",
       "    </tr>\n",
       "    <tr>\n",
       "      <th>144</th>\n",
       "      <td>Ing.ges. BBP Bauconsulting GmbH</td>\n",
       "      <td>Berufseinsteiger / Absolvent / Junior Ingenieu...</td>\n",
       "    </tr>\n",
       "    <tr>\n",
       "      <th>145</th>\n",
       "      <td>BWI GmbH</td>\n",
       "      <td>Business Analyst Transmission Systeme (m/w/d)</td>\n",
       "    </tr>\n",
       "    <tr>\n",
       "      <th>146</th>\n",
       "      <td>home24 SE</td>\n",
       "      <td>Performance Marketing Manager SEA – Deutsch (m...</td>\n",
       "    </tr>\n",
       "  </tbody>\n",
       "</table>\n",
       "<p>147 rows × 2 columns</p>\n",
       "</div>"
      ],
      "text/plain": [
       "                                             company  \\\n",
       "0                                            Wayfair   \n",
       "1    IU International University of Applied Sciences   \n",
       "2                                                TUI   \n",
       "3                                   AOK Systems GmbH   \n",
       "4    IU International University of Applied Sciences   \n",
       "..                                               ...   \n",
       "142                                         Saxovent   \n",
       "143                               Enpal Montage GmbH   \n",
       "144                  Ing.ges. BBP Bauconsulting GmbH   \n",
       "145                                         BWI GmbH   \n",
       "146                                        home24 SE   \n",
       "\n",
       "                                                 title  \n",
       "0              Marketing Analyst - Paid Social (M/F/D)  \n",
       "1    Duales Studium E-Commerce (B.A.) am Campus ode...  \n",
       "2    Referent Web Analyst (m/w/d) mit Fokus Marketi...  \n",
       "3      Business Analyst (m/w/d) für die EE Krankenhaus  \n",
       "4    Duales Studium Immobilienwirtschaft (B.A.) am ...  \n",
       "..                                                 ...  \n",
       "142          Business Analyst Renewables (all genders)  \n",
       "143                 Growth & Expansion Analyst (w/m/d)  \n",
       "144  Berufseinsteiger / Absolvent / Junior Ingenieu...  \n",
       "145      Business Analyst Transmission Systeme (m/w/d)  \n",
       "146  Performance Marketing Manager SEA – Deutsch (m...  \n",
       "\n",
       "[147 rows x 2 columns]"
      ]
     },
     "execution_count": 17,
     "metadata": {},
     "output_type": "execute_result"
    }
   ],
   "source": [
    "x"
   ]
  },
  {
   "cell_type": "code",
   "execution_count": 18,
   "metadata": {},
   "outputs": [],
   "source": [
    "#Save file in your directory\n",
    "\n",
    "x.to_csv('linkedinJobs.csv')"
   ]
  },
  {
   "cell_type": "code",
   "execution_count": 19,
   "metadata": {},
   "outputs": [],
   "source": [
    "\n",
    "#Find job links and append it to a list\n",
    "\n",
    "jobList = driver.find_elements(By.CLASS_NAME,'base-card__full-link')\n",
    "hrefList = []\n",
    "for e in jobList:\n",
    "    hrefList.append(e.get_attribute('href'))\n"
   ]
  },
  {
   "cell_type": "code",
   "execution_count": 20,
   "metadata": {},
   "outputs": [
    {
     "data": {
      "text/plain": [
       "['https://de.linkedin.com/jobs/view/marketing-analyst-paid-social-m-f-d-at-wayfair-3796171754?refId=5tN93TnLSHp2OvEldz3MCQ%3D%3D&trackingId=jifu%2FMBInSSz9D0uB%2BJU0A%3D%3D&position=1&pageNum=0&trk=public_jobs_jserp-result_search-card',\n",
       " 'https://de.linkedin.com/jobs/view/duales-studium-e-commerce-b-a-am-campus-oder-online-at-iu-internationale-hochschule-3802361980?refId=5tN93TnLSHp2OvEldz3MCQ%3D%3D&trackingId=HVGz%2BEX5DJedYUt4qn8Lxg%3D%3D&position=2&pageNum=0&trk=public_jobs_jserp-result_search-card',\n",
       " 'https://de.linkedin.com/jobs/view/referent-web-analyst-m-w-d-mit-fokus-marketing-attribution-at-tui-3746717080?refId=5tN93TnLSHp2OvEldz3MCQ%3D%3D&trackingId=nt6AD50wE%2BJsy1dqqomHrA%3D%3D&position=3&pageNum=0&trk=public_jobs_jserp-result_search-card',\n",
       " 'https://de.linkedin.com/jobs/view/business-analyst-m-w-d-f%C3%BCr-die-ee-krankenhaus-at-aok-systems-gmbh-3783797735?refId=5tN93TnLSHp2OvEldz3MCQ%3D%3D&trackingId=rbg%2BcIjM8G0FZ%2BgGdR%2FQZQ%3D%3D&position=4&pageNum=0&trk=public_jobs_jserp-result_search-card',\n",
       " 'https://de.linkedin.com/jobs/view/duales-studium-immobilienwirtschaft-b-a-am-campus-oder-online-at-iu-internationale-hochschule-3802371435?refId=5tN93TnLSHp2OvEldz3MCQ%3D%3D&trackingId=btqS4cfrIefh5%2Bk51BrXgg%3D%3D&position=5&pageNum=0&trk=public_jobs_jserp-result_search-card',\n",
       " 'https://de.linkedin.com/jobs/view/business-analyst-m-w-d-at-init-ag-f%C3%BCr-digitale-kommunikation-3782265109?refId=5tN93TnLSHp2OvEldz3MCQ%3D%3D&trackingId=oCAGDvIDnYtshq3409%2F70g%3D%3D&position=6&pageNum=0&trk=public_jobs_jserp-result_search-card',\n",
       " 'https://de.linkedin.com/jobs/view/duales-studium-betriebswirtschaftslehre-bank-b-a-mit-fokus-vertrieb-m-w-d-at-interhyp-gruppe-3746301416?refId=5tN93TnLSHp2OvEldz3MCQ%3D%3D&trackingId=8uxCEvJiq5T8M%2BiYshhJ9g%3D%3D&position=7&pageNum=0&trk=public_jobs_jserp-result_search-card',\n",
       " 'https://de.linkedin.com/jobs/view/business-analyst-m-w-d-at-init-ag-f%C3%BCr-digitale-kommunikation-3782262436?refId=5tN93TnLSHp2OvEldz3MCQ%3D%3D&trackingId=JdWBPYaICgscQ19cxoOSGA%3D%3D&position=8&pageNum=0&trk=public_jobs_jserp-result_search-card',\n",
       " 'https://de.linkedin.com/jobs/view/business-analyst-m-w-d-sachversicherungs-haftpflichtsch%C3%A4den-in-berlin-at-bavariadirekt-3805304922?refId=5tN93TnLSHp2OvEldz3MCQ%3D%3D&trackingId=GRplO4bhQib2aL8jR5JC%2Fw%3D%3D&position=10&pageNum=0&trk=public_jobs_jserp-result_search-card',\n",
       " 'https://de.linkedin.com/jobs/view/consultant-business-analyst-senior-bei-findic-w-m-d-at-zeb-consulting-3378324316?refId=5tN93TnLSHp2OvEldz3MCQ%3D%3D&trackingId=yZmgl6JRdxciKn9aUUjnQg%3D%3D&position=11&pageNum=0&trk=public_jobs_jserp-result_search-card',\n",
       " 'https://de.linkedin.com/jobs/view/duales-studium-b-a-international-service-management-m-w-d-berlin-at-tesla-3735044548?refId=5tN93TnLSHp2OvEldz3MCQ%3D%3D&trackingId=t9DMkMK2X9wx1k39XfhMkg%3D%3D&position=12&pageNum=0&trk=public_jobs_jserp-result_search-card',\n",
       " 'https://de.linkedin.com/jobs/view/business-analyst-in-data-migration-manager-in-sap-s-4hana-at-deutsche-bahn-3802858957?refId=5tN93TnLSHp2OvEldz3MCQ%3D%3D&trackingId=0wJ9cHLXVRid7AsxgpQ0ww%3D%3D&position=13&pageNum=0&trk=public_jobs_jserp-result_search-card',\n",
       " 'https://de.linkedin.com/jobs/view/business-analyst-controller-e-commerce-m-w-d-at-igefa-e-commerce-gmbh-co-kg-3798384932?refId=5tN93TnLSHp2OvEldz3MCQ%3D%3D&trackingId=BSKAXAoZM7TuctoQfNhhVw%3D%3D&position=14&pageNum=0&trk=public_jobs_jserp-result_search-card',\n",
       " 'https://de.linkedin.com/jobs/view/data-analyst-power-bi-m-w-d-at-vielfaltmen%C3%BC-gmbh-3799306530?refId=5tN93TnLSHp2OvEldz3MCQ%3D%3D&trackingId=POW6YdjjQ87nJDDvI4A2Pg%3D%3D&position=15&pageNum=0&trk=public_jobs_jserp-result_search-card',\n",
       " 'https://de.linkedin.com/jobs/view/duales-studium-bwl-b-a-am-campus-oder-online-at-iu-internationale-hochschule-3802373231?refId=5tN93TnLSHp2OvEldz3MCQ%3D%3D&trackingId=IWL9zLX7kDvxc%2F3QRgimAg%3D%3D&position=16&pageNum=0&trk=public_jobs_jserp-result_search-card',\n",
       " 'https://de.linkedin.com/jobs/view/junior-group-performance-marketing-analyst-at-caseking-gmbh-3805537070?refId=5tN93TnLSHp2OvEldz3MCQ%3D%3D&trackingId=vxETH%2B3CyJ14o%2B3zdlOtaQ%3D%3D&position=17&pageNum=0&trk=public_jobs_jserp-result_search-card',\n",
       " 'https://de.linkedin.com/jobs/view/duales-studium-wirtschaftspr%C3%BCfung-b-a-2024-at-deloitte-3672941432?refId=5tN93TnLSHp2OvEldz3MCQ%3D%3D&trackingId=frzmNPjh0tdw1htzz6v3ig%3D%3D&position=18&pageNum=0&trk=public_jobs_jserp-result_search-card',\n",
       " 'https://de.linkedin.com/jobs/view/business-data-analyst-sales-customer-temporary-position-d-f-m-at-immoscout24-3767072288?refId=5tN93TnLSHp2OvEldz3MCQ%3D%3D&trackingId=fH1nsgy%2FdT1YuUoqoawFaA%3D%3D&position=19&pageNum=0&trk=public_jobs_jserp-result_search-card',\n",
       " 'https://de.linkedin.com/jobs/view/business-analyst-schwerpunkt-military-m-w-d-at-bwi-gmbh-3805599625?refId=5tN93TnLSHp2OvEldz3MCQ%3D%3D&trackingId=CfOfE04D3T7TF3%2B%2BkGnopg%3D%3D&position=21&pageNum=0&trk=public_jobs_jserp-result_search-card',\n",
       " 'https://de.linkedin.com/jobs/view/senior-marketing-data-analyst-at-airhelp-3795124343?refId=5tN93TnLSHp2OvEldz3MCQ%3D%3D&trackingId=yOJWU4AosJ0G%2F%2Fr5c%2BP7ig%3D%3D&position=22&pageNum=0&trk=public_jobs_jserp-result_search-card',\n",
       " 'https://de.linkedin.com/jobs/view/duales-studium-kindheitsp%C3%A4dagogik-b-a-am-campus-oder-online-at-iu-internationale-hochschule-3802372051?refId=5tN93TnLSHp2OvEldz3MCQ%3D%3D&trackingId=mtVCdX1HP9Peic6dSdc6OA%3D%3D&position=24&pageNum=0&trk=public_jobs_jserp-result_search-card',\n",
       " 'https://de.linkedin.com/jobs/view/market-shopper-data-analyst-m-w-d-at-heineken-deutschland-gmbh-3789991922?refId=5tN93TnLSHp2OvEldz3MCQ%3D%3D&trackingId=RzETLQz6g1uk16yS0IJ7Ew%3D%3D&position=25&pageNum=0&trk=public_jobs_jserp-result_search-card',\n",
       " 'https://de.linkedin.com/jobs/view/hungarian-speaking-social-media-analyst-gn-at-grafton-recruitment-3779009009?refId=pcSCLj6vwV7y8O9ZjjQ2wQ%3D%3D&trackingId=fp9SD%2FmXr8AmhnhJgb0EEQ%3D%3D&position=1&pageNum=1&trk=public_jobs_jserp-result_search-card',\n",
       " 'https://de.linkedin.com/jobs/view/duales-studium-tourismusmanagement-b-a-am-campus-oder-online-at-iu-internationale-hochschule-3802366622?refId=pcSCLj6vwV7y8O9ZjjQ2wQ%3D%3D&trackingId=trtXN3nPaPQdhn1HYBQafw%3D%3D&position=2&pageNum=1&trk=public_jobs_jserp-result_search-card',\n",
       " 'https://de.linkedin.com/jobs/view/business-intelligence-data-analyst-at-maximon-the-longevity-company-builder-3788415610?refId=pcSCLj6vwV7y8O9ZjjQ2wQ%3D%3D&trackingId=LroaDxemR%2BLwc%2BOYjFyPBw%3D%3D&position=3&pageNum=1&trk=public_jobs_jserp-result_search-card',\n",
       " 'https://de.linkedin.com/jobs/view/senior-data-analyst-all-genders-acquisition-at-urban-sports-club-3803100691?refId=pcSCLj6vwV7y8O9ZjjQ2wQ%3D%3D&trackingId=8%2FyXMMb%2Bi1bZmnk5UJchJA%3D%3D&position=4&pageNum=1&trk=public_jobs_jserp-result_search-card',\n",
       " 'https://de.linkedin.com/jobs/view/duales-studium-tourismusmanagement-b-a-am-campus-oder-online-at-iu-internationale-hochschule-3802370183?refId=pcSCLj6vwV7y8O9ZjjQ2wQ%3D%3D&trackingId=t630NPWOc21S6lYmPg6ZJw%3D%3D&position=5&pageNum=1&trk=public_jobs_jserp-result_search-card',\n",
       " 'https://de.linkedin.com/jobs/view/business-analyst-datenmigration-all-genders-f%C3%BCr-die-adesso-insurance-solutions-gmbh-at-adesso-insurance-solutions-gmbh-3741942819?refId=pcSCLj6vwV7y8O9ZjjQ2wQ%3D%3D&trackingId=w8zDWRL7Xh5wugqoR1VD9Q%3D%3D&position=6&pageNum=1&trk=public_jobs_jserp-result_search-card',\n",
       " 'https://de.linkedin.com/jobs/view/social-media-analyst-w-m-d-at-tlgg-agency-3804679276?refId=pcSCLj6vwV7y8O9ZjjQ2wQ%3D%3D&trackingId=GdEMsgnw%2BfVhVwwHpbeZsA%3D%3D&position=7&pageNum=1&trk=public_jobs_jserp-result_search-card',\n",
       " 'https://de.linkedin.com/jobs/view/dynamics-365-business-analyst-at-digitall-3731258981?refId=pcSCLj6vwV7y8O9ZjjQ2wQ%3D%3D&trackingId=nYUw90TMGvkvP7KSZYOHqg%3D%3D&position=8&pageNum=1&trk=public_jobs_jserp-result_search-card',\n",
       " 'https://de.linkedin.com/jobs/view/senior-data-analyst-get-a-30%25-salary-increase-pay-0%25-tax-at-puffy-3759029443?refId=pcSCLj6vwV7y8O9ZjjQ2wQ%3D%3D&trackingId=S%2B%2F2tJqGKhVHWryShj%2FnNg%3D%3D&position=9&pageNum=1&trk=public_jobs_jserp-result_search-card',\n",
       " 'https://de.linkedin.com/jobs/view/business-analyst-m-w-d-at-mediamarktsaturn-3801293970?refId=pcSCLj6vwV7y8O9ZjjQ2wQ%3D%3D&trackingId=u0oAd3Nc%2FhiJNUg0FObTRQ%3D%3D&position=10&pageNum=1&trk=public_jobs_jserp-result_search-card',\n",
       " 'https://de.linkedin.com/jobs/view/duales-studium-b-a-bwl-mit-schwerpunkt-business-sales-in-berlin-2024-at-vodafone-3717095440?refId=pcSCLj6vwV7y8O9ZjjQ2wQ%3D%3D&trackingId=2GBr1xfhgC0SqCh1X8bSMQ%3D%3D&position=11&pageNum=1&trk=public_jobs_jserp-result_search-card',\n",
       " 'https://de.linkedin.com/jobs/view/d365-f-o-business-analyst-scm-at-interex-group-3805319911?refId=pcSCLj6vwV7y8O9ZjjQ2wQ%3D%3D&trackingId=M4kCCTZ54yX%2F8QPHgPVYRg%3D%3D&position=12&pageNum=1&trk=public_jobs_jserp-result_search-card',\n",
       " 'https://de.linkedin.com/jobs/view/praktikum-w-m-d-business-research-analysis-at-kpmg-deutschland-3743896490?refId=pcSCLj6vwV7y8O9ZjjQ2wQ%3D%3D&trackingId=EYJTjccfp2Z7nlULc4NmZg%3D%3D&position=14&pageNum=1&trk=public_jobs_jserp-result_search-card',\n",
       " 'https://de.linkedin.com/jobs/view/duales-studium-soziale-arbeit-b-a-am-campus-oder-online-at-iu-internationale-hochschule-3802367345?refId=pcSCLj6vwV7y8O9ZjjQ2wQ%3D%3D&trackingId=uCC%2FTaPRv4AW1IMKrcrrMg%3D%3D&position=15&pageNum=1&trk=public_jobs_jserp-result_search-card',\n",
       " 'https://de.linkedin.com/jobs/view/business-analyst-m-w-d-at-michael-page-3792822749?refId=pcSCLj6vwV7y8O9ZjjQ2wQ%3D%3D&trackingId=abiuyjGp2kC2Jt6ebv6DVw%3D%3D&position=16&pageNum=1&trk=public_jobs_jserp-result_search-card',\n",
       " 'https://de.linkedin.com/jobs/view/duales-studium-kindheitsp%C3%A4dagogik-b-a-am-campus-oder-online-at-iu-internationale-hochschule-3802368748?refId=pcSCLj6vwV7y8O9ZjjQ2wQ%3D%3D&trackingId=wwvOK4Nevtl3VNee7O5Pxw%3D%3D&position=17&pageNum=1&trk=public_jobs_jserp-result_search-card',\n",
       " 'https://de.linkedin.com/jobs/view/business-analyst-in-sales-analytics-d-w-m-at-immoscout24-3759056246?refId=pcSCLj6vwV7y8O9ZjjQ2wQ%3D%3D&trackingId=ZV8f24r58RpqQF%2BvCxmWpA%3D%3D&position=19&pageNum=1&trk=public_jobs_jserp-result_search-card',\n",
       " 'https://de.linkedin.com/jobs/view/business-consultant-data-architecture-und-data-analysis-supply-solutions-m-w-d-at-msg-3683743082?refId=pcSCLj6vwV7y8O9ZjjQ2wQ%3D%3D&trackingId=oOaLV2B%2BAPDTN91hqJYPbQ%3D%3D&position=20&pageNum=1&trk=public_jobs_jserp-result_search-card',\n",
       " 'https://de.linkedin.com/jobs/view/business-analyst-workflow-utility-for-operational-planning-m-w-d-at-freiberger-lebensmittel-gmbh-3735702336?refId=pcSCLj6vwV7y8O9ZjjQ2wQ%3D%3D&trackingId=2Ag3v1HHQ7A%2FPH0%2BuwpIIA%3D%3D&position=21&pageNum=1&trk=public_jobs_jserp-result_search-card',\n",
       " 'https://de.linkedin.com/jobs/view/werkstudent-praktikant-business-intelligence-reporting-business-analysis-at-hello-de-3751658783?refId=pcSCLj6vwV7y8O9ZjjQ2wQ%3D%3D&trackingId=tPiTteJ5tx16%2BErARjYT4w%3D%3D&position=22&pageNum=1&trk=public_jobs_jserp-result_search-card',\n",
       " 'https://de.linkedin.com/jobs/view/sozial%C2%ADver%C2%ADsi%C2%ADche%C2%ADrungs%C2%ADfach%C2%ADan%C2%ADge%C2%ADstellte-als-business-analyst-m-w-d-schwerpunkt-telematik-at-aok-systems-gmbh-3781587384?refId=pcSCLj6vwV7y8O9ZjjQ2wQ%3D%3D&trackingId=gpZvGOqr%2BY2FMHarhvLu%2BA%3D%3D&position=23&pageNum=1&trk=public_jobs_jserp-result_search-card',\n",
       " 'https://de.linkedin.com/jobs/view/senior-marketing-analyst-d-f-m-at-immoscout24-3750809855?refId=pcSCLj6vwV7y8O9ZjjQ2wQ%3D%3D&trackingId=U4zMxkr6qcSO%2Bnfa3hFlHw%3D%3D&position=24&pageNum=1&trk=public_jobs_jserp-result_search-card',\n",
       " 'https://de.linkedin.com/jobs/view/business-data-analyst-w-m-d-at-jobs-via-efinancialcareers-3792177119?refId=X5faUrmWg39fHSLQa234Ag%3D%3D&trackingId=iO8mHrCMXKBVkEvPXF35gg%3D%3D&position=1&pageNum=2&trk=public_jobs_jserp-result_search-card',\n",
       " 'https://de.linkedin.com/jobs/view/business-analyst-workflow-utility-for-operational-planning-m-w-d-at-freiberger-lebensmittel-gmbh-3735702336?refId=X5faUrmWg39fHSLQa234Ag%3D%3D&trackingId=fjIGYwJfJNzDQjnisaYnDw%3D%3D&position=2&pageNum=2&trk=public_jobs_jserp-result_search-card',\n",
       " 'https://de.linkedin.com/jobs/view/werkstudent-praktikant-business-intelligence-reporting-business-analysis-at-hello-de-3751658783?refId=X5faUrmWg39fHSLQa234Ag%3D%3D&trackingId=QO8MuRYtD7m34fnTXr7%2BjA%3D%3D&position=3&pageNum=2&trk=public_jobs_jserp-result_search-card',\n",
       " 'https://de.linkedin.com/jobs/view/sozial%C2%ADver%C2%ADsi%C2%ADche%C2%ADrungs%C2%ADfach%C2%ADan%C2%ADge%C2%ADstellte-als-business-analyst-m-w-d-schwerpunkt-telematik-at-aok-systems-gmbh-3781587384?refId=X5faUrmWg39fHSLQa234Ag%3D%3D&trackingId=aR0lQdOV8kPP%2BFcoAtWXzw%3D%3D&position=4&pageNum=2&trk=public_jobs_jserp-result_search-card',\n",
       " 'https://de.linkedin.com/jobs/view/senior-marketing-analyst-d-f-m-at-immoscout24-3750809855?refId=X5faUrmWg39fHSLQa234Ag%3D%3D&trackingId=3SYLalq64dtRKYqo3EIP0Q%3D%3D&position=5&pageNum=2&trk=public_jobs_jserp-result_search-card',\n",
       " 'https://de.linkedin.com/jobs/view/business-analyst-dynamics-ax-365-m-w-d-at-swan-consultancy-gmbh-3789325415?refId=X5faUrmWg39fHSLQa234Ag%3D%3D&trackingId=A3cZICX4CQJi3ptM%2BoE1hQ%3D%3D&position=6&pageNum=2&trk=public_jobs_jserp-result_search-card',\n",
       " 'https://de.linkedin.com/jobs/view/business-analyst-insurance-m-w-d-at-verivox-gmbh-3773667653?refId=X5faUrmWg39fHSLQa234Ag%3D%3D&trackingId=Kv1gzfAex3RFsTNSsP6mxA%3D%3D&position=7&pageNum=2&trk=public_jobs_jserp-result_search-card',\n",
       " 'https://de.linkedin.com/jobs/view/business-analyst-all-genders-digitalisierung-at-lufthansa-industry-solutions-3574420173?refId=X5faUrmWg39fHSLQa234Ag%3D%3D&trackingId=DuQOPCss%2BRyU8zEJYZ4dOw%3D%3D&position=8&pageNum=2&trk=public_jobs_jserp-result_search-card',\n",
       " 'https://de.linkedin.com/jobs/view/duales-studium-bwl-schwerpunkt-industrie-b-a-bereich-regulierungsmanagement-berlin-at-50hertz-transmission-gmbh-3735305713?refId=X5faUrmWg39fHSLQa234Ag%3D%3D&trackingId=K2S%2FRRdVIx3HSUbJm44VKA%3D%3D&position=9&pageNum=2&trk=public_jobs_jserp-result_search-card',\n",
       " 'https://de.linkedin.com/jobs/view/duales-studium-b-a-bwl-schwerpunkt-immobilienwirtschaft-buwog-berlin-2024-at-vonovia-3789141784?refId=X5faUrmWg39fHSLQa234Ag%3D%3D&trackingId=RW82bOrBHBWexRfj7Vx4IA%3D%3D&position=10&pageNum=2&trk=public_jobs_jserp-result_search-card',\n",
       " 'https://de.linkedin.com/jobs/view/business-data-analyst-sales-customer-temporary-position-d-f-m-at-immoscout24-3747492043?refId=X5faUrmWg39fHSLQa234Ag%3D%3D&trackingId=B2RK2sazj4uloOTRLq6ahw%3D%3D&position=11&pageNum=2&trk=public_jobs_jserp-result_search-card',\n",
       " 'https://de.linkedin.com/jobs/view/business-analyst-m-w-d-at-cbtw-3797195903?refId=X5faUrmWg39fHSLQa234Ag%3D%3D&trackingId=5hpwyPtBSuOrVF%2Fltdoocw%3D%3D&position=12&pageNum=2&trk=public_jobs_jserp-result_search-card',\n",
       " 'https://de.linkedin.com/jobs/view/duales-studium-bwl-b-a-am-campus-oder-online-at-iu-internationale-hochschule-3802370742?refId=X5faUrmWg39fHSLQa234Ag%3D%3D&trackingId=rQlAomymN5VOVOgR5mqMGw%3D%3D&position=13&pageNum=2&trk=public_jobs_jserp-result_search-card',\n",
       " 'https://de.linkedin.com/jobs/view/senior-managing-consultant-executive-technology-innovation-w-m-x-at-ntt-data-dach-3700519276?refId=X5faUrmWg39fHSLQa234Ag%3D%3D&trackingId=oYp5CZt9xyQMtwpYU3y%2FAw%3D%3D&position=14&pageNum=2&trk=public_jobs_jserp-result_search-card',\n",
       " 'https://de.linkedin.com/jobs/view/business-analyst-in-sales-analytics-d-w-m-at-immoscout24-3767069639?refId=X5faUrmWg39fHSLQa234Ag%3D%3D&trackingId=bnb4cW6UZX3QUESo9GQvUw%3D%3D&position=15&pageNum=2&trk=public_jobs_jserp-result_search-card',\n",
       " 'https://de.linkedin.com/jobs/view/marketing-analyst-w-m-d-at-growney-de-3798369444?refId=X5faUrmWg39fHSLQa234Ag%3D%3D&trackingId=Hu6ykh%2F94menr6usehfsbQ%3D%3D&position=16&pageNum=2&trk=public_jobs_jserp-result_search-card',\n",
       " 'https://de.linkedin.com/jobs/view/business-analyst-m-w-d-43-cl-27-2-at-moyyn-3587529775?refId=X5faUrmWg39fHSLQa234Ag%3D%3D&trackingId=5WrJVyajzJ9W2H7WjK504w%3D%3D&position=17&pageNum=2&trk=public_jobs_jserp-result_search-card',\n",
       " 'https://de.linkedin.com/jobs/view/online-tracking-analyst-m-w-d-in-berlin-deutschland-at-energy-jobline-3791360411?refId=X5faUrmWg39fHSLQa234Ag%3D%3D&trackingId=3zyUFGj9ZHVZgMIMwc%2BDmw%3D%3D&position=18&pageNum=2&trk=public_jobs_jserp-result_search-card',\n",
       " 'https://de.linkedin.com/jobs/view/duales-studium-immobilienwirtschaft-b-a-am-campus-oder-online-at-iu-internationale-hochschule-3802371435?refId=X5faUrmWg39fHSLQa234Ag%3D%3D&trackingId=Pa54AZ7mxmsEmefzB77cFw%3D%3D&position=19&pageNum=2&trk=public_jobs_jserp-result_search-card',\n",
       " 'https://de.linkedin.com/jobs/view/german-speaking-social-media-analyst-gn-at-grafton-recruitment-3797835380?refId=X5faUrmWg39fHSLQa234Ag%3D%3D&trackingId=nCk%2BXRCETMHIkD%2FfhQTwNQ%3D%3D&position=20&pageNum=2&trk=public_jobs_jserp-result_search-card',\n",
       " 'https://de.linkedin.com/jobs/view/business-analyst-m-w-d-at-cbtw-3799790853?refId=X5faUrmWg39fHSLQa234Ag%3D%3D&trackingId=CnOkCodfE7Oxsy9v2yQgOQ%3D%3D&position=21&pageNum=2&trk=public_jobs_jserp-result_search-card',\n",
       " 'https://de.linkedin.com/jobs/view/marketing-analyst-m-f-d-at-aeyde-3804992804?refId=X5faUrmWg39fHSLQa234Ag%3D%3D&trackingId=mnkdVpkPQXr%2FBJT6roOezg%3D%3D&position=22&pageNum=2&trk=public_jobs_jserp-result_search-card',\n",
       " 'https://de.linkedin.com/jobs/view/business-analyst-retail-processes-at-new-yorker-3777563631?refId=X5faUrmWg39fHSLQa234Ag%3D%3D&trackingId=XsZNWewNGNe11%2FJXutmxPA%3D%3D&position=23&pageNum=2&trk=public_jobs_jserp-result_search-card',\n",
       " 'https://de.linkedin.com/jobs/view/senior-data-analyst-all-genders-acquisition-at-urban-sports-club-3803100691?refId=X5faUrmWg39fHSLQa234Ag%3D%3D&trackingId=w6yPfGtzAVWWbp%2Fz7idKDw%3D%3D&position=24&pageNum=2&trk=public_jobs_jserp-result_search-card',\n",
       " 'https://de.linkedin.com/jobs/view/business-analyst-m-w-d-at-cbtw-3802694525?refId=duDjYqPYlBeSVVBMlNF8DA%3D%3D&trackingId=9UEhu2p1NJqfZxs%2FKfVbGg%3D%3D&position=1&pageNum=3&trk=public_jobs_jserp-result_search-card',\n",
       " 'https://de.linkedin.com/jobs/view/business-analyst-m-w-d-at-cbtw-3802864062?refId=duDjYqPYlBeSVVBMlNF8DA%3D%3D&trackingId=5ewIkOJurlNRjkVsmxiKPA%3D%3D&position=2&pageNum=3&trk=public_jobs_jserp-result_search-card',\n",
       " 'https://de.linkedin.com/jobs/view/business-data-analyst-w-m-d-at-robert-half-3792176156?refId=duDjYqPYlBeSVVBMlNF8DA%3D%3D&trackingId=gpt4VAJ7Pr0wCU0iSNryBA%3D%3D&position=3&pageNum=3&trk=public_jobs_jserp-result_search-card',\n",
       " 'https://de.linkedin.com/jobs/view/business-analyst-m-w-d-100%25-remote-at-publicplan-gmbh-3801936372?refId=duDjYqPYlBeSVVBMlNF8DA%3D%3D&trackingId=EIqXkcFna4568D933ELYvA%3D%3D&position=4&pageNum=3&trk=public_jobs_jserp-result_search-card',\n",
       " 'https://de.linkedin.com/jobs/view/duales-studium-mediendesign-b-a-am-campus-oder-online-at-iu-internationale-hochschule-3802370420?refId=duDjYqPYlBeSVVBMlNF8DA%3D%3D&trackingId=jQVDIMstMEbJDrrCMkvZPw%3D%3D&position=5&pageNum=3&trk=public_jobs_jserp-result_search-card',\n",
       " 'https://de.linkedin.com/jobs/view/business-analyst-dubai-uae-at-cobblestone-energy-3780712045?refId=duDjYqPYlBeSVVBMlNF8DA%3D%3D&trackingId=eWX9UdrVJLYJPNZkv6wZ9g%3D%3D&position=6&pageNum=3&trk=public_jobs_jserp-result_search-card',\n",
       " 'https://de.linkedin.com/jobs/view/performance-marketing-analyst-m-w-d-at-myne-3789059410?refId=duDjYqPYlBeSVVBMlNF8DA%3D%3D&trackingId=idO2aaKfGq9W%2FdcH0DCSvA%3D%3D&position=7&pageNum=3&trk=public_jobs_jserp-result_search-card',\n",
       " 'https://de.linkedin.com/jobs/view/business-intelligence-data-analyst-at-maximon-the-longevity-company-builder-3788415610?refId=duDjYqPYlBeSVVBMlNF8DA%3D%3D&trackingId=Dd4fu%2FR6pwyMDJkVYSmxPg%3D%3D&position=8&pageNum=3&trk=public_jobs_jserp-result_search-card',\n",
       " 'https://de.linkedin.com/jobs/view/commercial-insights-analyst-m-w-d-at-dr-kade-health-care-2726484396?refId=duDjYqPYlBeSVVBMlNF8DA%3D%3D&trackingId=oCZi0whZUV1g4NLdmh8Vxg%3D%3D&position=9&pageNum=3&trk=public_jobs_jserp-result_search-card',\n",
       " 'https://de.linkedin.com/jobs/view/senior-business-analyst-in-digitalisierung-baumanagement-at-deutsche-bahn-3764599958?refId=duDjYqPYlBeSVVBMlNF8DA%3D%3D&trackingId=t3FBT4jsj2Xn5FjDms9ZEg%3D%3D&position=10&pageNum=3&trk=public_jobs_jserp-result_search-card',\n",
       " 'https://de.linkedin.com/jobs/view/business-analyst-schwerpunkt-accounting-at-odoo-3785673862?refId=duDjYqPYlBeSVVBMlNF8DA%3D%3D&trackingId=Dzh2Gj0OL0R%2Fu9X2kJQuJQ%3D%3D&position=11&pageNum=3&trk=public_jobs_jserp-result_search-card',\n",
       " 'https://de.linkedin.com/jobs/view/business-market-analyst-m-w-d-at-abl-solutions-gmbh-3726545406?refId=duDjYqPYlBeSVVBMlNF8DA%3D%3D&trackingId=Nk9WtMS5Qq8d2dexEQhhug%3D%3D&position=12&pageNum=3&trk=public_jobs_jserp-result_search-card',\n",
       " 'https://de.linkedin.com/jobs/view/business-analyst-ecommerce-at-lovehoney-group-3790737966?refId=duDjYqPYlBeSVVBMlNF8DA%3D%3D&trackingId=nLld%2BxQVcMGHw5Q319KduQ%3D%3D&position=13&pageNum=3&trk=public_jobs_jserp-result_search-card',\n",
       " 'https://de.linkedin.com/jobs/view/business-analyst-application-architect-m-w-d-at-airbus-3728336998?refId=duDjYqPYlBeSVVBMlNF8DA%3D%3D&trackingId=gSWLoXDJQf%2Bh6MhDnXtmzA%3D%3D&position=14&pageNum=3&trk=public_jobs_jserp-result_search-card',\n",
       " 'https://de.linkedin.com/jobs/view/business-analyst-in-sales-analytics-d-w-m-at-scout24-gruppe-3763573560?refId=duDjYqPYlBeSVVBMlNF8DA%3D%3D&trackingId=h1NJ5D7f3LfTkPzOCk3mVg%3D%3D&position=15&pageNum=3&trk=public_jobs_jserp-result_search-card',\n",
       " 'https://de.linkedin.com/jobs/view/duales-studium-bwl-schwerpunkt-industrie-b-a-bereich-regulierungsmanagement-berlin-at-50hertz-transmission-gmbh-3735308272?refId=duDjYqPYlBeSVVBMlNF8DA%3D%3D&trackingId=12zRyZIVwFRErkB2A7AkLA%3D%3D&position=16&pageNum=3&trk=public_jobs_jserp-result_search-card',\n",
       " 'https://de.linkedin.com/jobs/view/werkstudent-m-w-d-wissensmanagement-mit-option-ba-oder-ma-thesis-at-diehl-metall-3642100758?refId=duDjYqPYlBeSVVBMlNF8DA%3D%3D&trackingId=sw9DeQDaT%2BOgYY3%2FwJ7Qlw%3D%3D&position=17&pageNum=3&trk=public_jobs_jserp-result_search-card',\n",
       " 'https://de.linkedin.com/jobs/view/duales-studium-b-a-bwl-mit-schwerpunkt-business-sales-in-berlin-2024-at-vodafone-3717095440?refId=duDjYqPYlBeSVVBMlNF8DA%3D%3D&trackingId=Kbk9JBNsmJ9ZHAGjHY0wOA%3D%3D&position=18&pageNum=3&trk=public_jobs_jserp-result_search-card',\n",
       " 'https://de.linkedin.com/jobs/view/business-analyst-anforderungsmanager-m-w-d-at-gulp-%E2%80%93-experts-united-3795592813?refId=duDjYqPYlBeSVVBMlNF8DA%3D%3D&trackingId=KUHh6%2F%2FSbmPZL%2Fhfn7QaDA%3D%3D&position=19&pageNum=3&trk=public_jobs_jserp-result_search-card',\n",
       " 'https://de.linkedin.com/jobs/view/digital-analyst-m-w-d-at-peak-ace-ag-3794091412?refId=duDjYqPYlBeSVVBMlNF8DA%3D%3D&trackingId=hudBNpd8OzUWDWxVHgF5JA%3D%3D&position=21&pageNum=3&trk=public_jobs_jserp-result_search-card',\n",
       " 'https://de.linkedin.com/jobs/view/product-owner-data-product-analyst-m-w-d-business-unit-insurance-at-verivox-gmbh-3773669466?refId=duDjYqPYlBeSVVBMlNF8DA%3D%3D&trackingId=Prg19OKdG8HbQIKcZZ9ptA%3D%3D&position=22&pageNum=3&trk=public_jobs_jserp-result_search-card',\n",
       " 'https://de.linkedin.com/jobs/view/data-analyst-power-bi-m-w-d-at-vielfaltmen%C3%BC-gmbh-3799306530?refId=duDjYqPYlBeSVVBMlNF8DA%3D%3D&trackingId=7PUu3zYvmfNGCW4afKbIsQ%3D%3D&position=23&pageNum=3&trk=public_jobs_jserp-result_search-card',\n",
       " 'https://de.linkedin.com/jobs/view/online-tracking-analyst-m-f-d-in-berlin-deutschland-at-energy-jobline-3792885087?refId=duDjYqPYlBeSVVBMlNF8DA%3D%3D&trackingId=8YL3eb7u1Lk3aOTsTM8MYQ%3D%3D&position=24&pageNum=3&trk=public_jobs_jserp-result_search-card',\n",
       " 'https://de.linkedin.com/jobs/view/performance-marketing-manager-sea-m-w-d-at-home24-se-3655539781?refId=oNPCydOwdlCWwH7I2phW5Q%3D%3D&trackingId=trFvbEKlk%2F50SUR6r39CTg%3D%3D&position=1&pageNum=4&trk=public_jobs_jserp-result_search-card',\n",
       " 'https://de.linkedin.com/jobs/view/duales-studium-b-a-bwl-mit-schwerpunkt-digital-innovation-in-berlin-2024-at-vodafone-3717099303?refId=oNPCydOwdlCWwH7I2phW5Q%3D%3D&trackingId=lbY5SI18EY1%2FT%2FpQNgCqcQ%3D%3D&position=2&pageNum=4&trk=public_jobs_jserp-result_search-card',\n",
       " 'https://de.linkedin.com/jobs/view/data-analyst-consumer-marketing-at-lovehoney-group-3805098517?refId=oNPCydOwdlCWwH7I2phW5Q%3D%3D&trackingId=oZonw%2BBK41eM%2F5%2BST%2BHdQw%3D%3D&position=3&pageNum=4&trk=public_jobs_jserp-result_search-card',\n",
       " 'https://de.linkedin.com/jobs/view/praktikum-w-m-d-business-research-analysis-at-kpmg-deutschland-3743896490?refId=oNPCydOwdlCWwH7I2phW5Q%3D%3D&trackingId=CdR2f6I%2BM%2FW2WwdRRZc34g%3D%3D&position=4&pageNum=4&trk=public_jobs_jserp-result_search-card',\n",
       " 'https://de.linkedin.com/jobs/view/business-analyst-data-ai-life-sciences-w-m-d-at-capgemini-3760808449?refId=oNPCydOwdlCWwH7I2phW5Q%3D%3D&trackingId=wZ%2F%2F4A90epWixMueTw2uxA%3D%3D&position=5&pageNum=4&trk=public_jobs_jserp-result_search-card',\n",
       " 'https://de.linkedin.com/jobs/view/businessanalyst-in-m-w-div-at-deutsche-rentenversicherung-bund-3706794548?refId=oNPCydOwdlCWwH7I2phW5Q%3D%3D&trackingId=vi6w702X9lArYv6TMgghPg%3D%3D&position=6&pageNum=4&trk=public_jobs_jserp-result_search-card',\n",
       " 'https://de.linkedin.com/jobs/view/online-tracking-analyst-m-w-d-in-berlin-deutschland-at-energy-jobline-3796119627?refId=oNPCydOwdlCWwH7I2phW5Q%3D%3D&trackingId=y75xx8LxZtMMhio0mXTOQg%3D%3D&position=7&pageNum=4&trk=public_jobs_jserp-result_search-card',\n",
       " 'https://de.linkedin.com/jobs/view/marketing-analyst-paid-search-m-f-d-at-wayfair-3805304238?refId=oNPCydOwdlCWwH7I2phW5Q%3D%3D&trackingId=eIbPg25LM0g%2BxqcxOK86Dw%3D%3D&position=8&pageNum=4&trk=public_jobs_jserp-result_search-card',\n",
       " 'https://de.linkedin.com/jobs/view/duales-studium-wirtschaftspr%C3%BCfung-b-a-2024-at-deloitte-3672941432?refId=oNPCydOwdlCWwH7I2phW5Q%3D%3D&trackingId=A80INPJ5aT2Cwo6rn8N4lg%3D%3D&position=9&pageNum=4&trk=public_jobs_jserp-result_search-card',\n",
       " 'https://de.linkedin.com/jobs/view/duales-studium-gesundheitsmanagement-b-a-am-campus-oder-online-at-iu-internationale-hochschule-3802374017?refId=oNPCydOwdlCWwH7I2phW5Q%3D%3D&trackingId=bqshC1RkYhfBqLRKo6nJiA%3D%3D&position=10&pageNum=4&trk=public_jobs_jserp-result_search-card',\n",
       " 'https://de.linkedin.com/jobs/view/duales-studium-soziale-arbeit-b-a-am-campus-oder-online-at-iu-internationale-hochschule-3802367345?refId=oNPCydOwdlCWwH7I2phW5Q%3D%3D&trackingId=fUKhEr16Xi%2Bkp%2FiBCt5n6Q%3D%3D&position=13&pageNum=4&trk=public_jobs_jserp-result_search-card',\n",
       " 'https://de.linkedin.com/jobs/view/senior-marketing-analyst-d-f-m-at-scout24-gruppe-3763571970?refId=oNPCydOwdlCWwH7I2phW5Q%3D%3D&trackingId=hNCAL2KHcMbewclPecVn7Q%3D%3D&position=14&pageNum=4&trk=public_jobs_jserp-result_search-card',\n",
       " 'https://de.linkedin.com/jobs/view/duales-studium-bwl-versicherung-b-a-at-devk-versicherungen-3708928337?refId=oNPCydOwdlCWwH7I2phW5Q%3D%3D&trackingId=r7Zjb76lKG9E2WlDLD%2B52g%3D%3D&position=15&pageNum=4&trk=public_jobs_jserp-result_search-card',\n",
       " 'https://de.linkedin.com/jobs/view/business-analyst-schwerpunkt-military-m-w-d-at-bwi-gmbh-3805599625?refId=oNPCydOwdlCWwH7I2phW5Q%3D%3D&trackingId=H%2FANJJvU5OPagq1hHPZ6Kw%3D%3D&position=16&pageNum=4&trk=public_jobs_jserp-result_search-card',\n",
       " 'https://de.linkedin.com/jobs/view/business-analyst-low-code-datenbanken-schnittstellenentwicklung-m-w-d-at-workwise-3798700844?refId=oNPCydOwdlCWwH7I2phW5Q%3D%3D&trackingId=ytZ6oRVTxnvMX2GHVXjLmQ%3D%3D&position=17&pageNum=4&trk=public_jobs_jserp-result_search-card',\n",
       " 'https://de.linkedin.com/jobs/view/junior-marketing-analyst-all-genders-at-dci-digital-career-institute-3804386488?refId=oNPCydOwdlCWwH7I2phW5Q%3D%3D&trackingId=WVTHi3ZT2oSKP9PfRi%2BeRg%3D%3D&position=18&pageNum=4&trk=public_jobs_jserp-result_search-card',\n",
       " 'https://de.linkedin.com/jobs/view/business-data-analyst-sales-customer-temporary-position-d-f-m-at-scout24-gruppe-3758957872?refId=oNPCydOwdlCWwH7I2phW5Q%3D%3D&trackingId=OfBKj3rAN0wpiq6K7cQLRQ%3D%3D&position=19&pageNum=4&trk=public_jobs_jserp-result_search-card',\n",
       " 'https://de.linkedin.com/jobs/view/business-analyst-value-added-services-m-w-d-at-verivox-gmbh-3773669435?refId=oNPCydOwdlCWwH7I2phW5Q%3D%3D&trackingId=mR8kpQjcS4MEYe%2BdF4su%2BA%3D%3D&position=21&pageNum=4&trk=public_jobs_jserp-result_search-card',\n",
       " 'https://de.linkedin.com/jobs/view/business-analystin-digitalisierung-netzausbau-m-w-d-at-50hertz-transmission-gmbh-3800269580?refId=oNPCydOwdlCWwH7I2phW5Q%3D%3D&trackingId=XDE8aTDXxmX%2FnxpJabm4gQ%3D%3D&position=22&pageNum=4&trk=public_jobs_jserp-result_search-card',\n",
       " 'https://de.linkedin.com/jobs/view/market-analyst-research-analyst-m-w-d-at-engel-v%C3%B6lkers-commercial-berlin-3765626226?refId=oNPCydOwdlCWwH7I2phW5Q%3D%3D&trackingId=rOluFFwtVe7Dna5Jp1Hj9Q%3D%3D&position=23&pageNum=4&trk=public_jobs_jserp-result_search-card',\n",
       " 'https://de.linkedin.com/jobs/view/business-analyst-product-owner-requirements-engineer-m-w-d-at-cgi-3779594869?refId=oNPCydOwdlCWwH7I2phW5Q%3D%3D&trackingId=Jdlt5YxT18mVV6DpVsciLw%3D%3D&position=24&pageNum=4&trk=public_jobs_jserp-result_search-card',\n",
       " 'https://de.linkedin.com/jobs/view/business-analyst-w-m-d-customer-support-center-elternzeitvertretung-befristet-bis-31-10-2024-at-ikea-3800574507?refId=oNPCydOwdlCWwH7I2phW5Q%3D%3D&trackingId=gLU6rbEamfIAq1cXCmNkgA%3D%3D&position=25&pageNum=4&trk=public_jobs_jserp-result_search-card',\n",
       " 'https://de.linkedin.com/jobs/view/senior-marketing-analyst-d-f-m-at-immoscout24-3767071344?refId=6Xxj7IpWCtVWu8WwdjPbVA%3D%3D&trackingId=ODuKiRNerERA0nQr9IDXeQ%3D%3D&position=1&pageNum=5&trk=public_jobs_jserp-result_search-card',\n",
       " 'https://de.linkedin.com/jobs/view/marketing-data-analyst-all-genders-at-justplay-3764333555?refId=6Xxj7IpWCtVWu8WwdjPbVA%3D%3D&trackingId=twxqP1EpESPDlrggt7s9mg%3D%3D&position=2&pageNum=5&trk=public_jobs_jserp-result_search-card',\n",
       " 'https://de.linkedin.com/jobs/view/business-analyst-m-w-d-bei-propotsdam-at-interim-group-3803801300?refId=6Xxj7IpWCtVWu8WwdjPbVA%3D%3D&trackingId=4amMhYfWx83flob86mScnw%3D%3D&position=3&pageNum=5&trk=public_jobs_jserp-result_search-card',\n",
       " 'https://de.linkedin.com/jobs/view/consultant-business-analyst-projektmanager-life-sciences-chemicals-w-m-d-at-capgemini-3616300102?refId=6Xxj7IpWCtVWu8WwdjPbVA%3D%3D&trackingId=Cmfqx797c4GpaNXySZDTbQ%3D%3D&position=4&pageNum=5&trk=public_jobs_jserp-result_search-card',\n",
       " 'https://de.linkedin.com/jobs/view/business-analyst-betriebsmanagement-w-m-d-at-gasag-gruppe-3789436306?refId=6Xxj7IpWCtVWu8WwdjPbVA%3D%3D&trackingId=LnBqPVmRVo8nXdQI%2BFt1Lw%3D%3D&position=5&pageNum=5&trk=public_jobs_jserp-result_search-card',\n",
       " 'https://de.linkedin.com/jobs/view/senior-marketing-analyst-m-f-d-at-contorion-3785684995?refId=6Xxj7IpWCtVWu8WwdjPbVA%3D%3D&trackingId=j3YrdAUGD1jI5mdgIH02oQ%3D%3D&position=6&pageNum=5&trk=public_jobs_jserp-result_search-card',\n",
       " 'https://de.linkedin.com/jobs/view/business-analyst-banking-m-w-d-at-msg-for-banking-ag-3574443223?refId=6Xxj7IpWCtVWu8WwdjPbVA%3D%3D&trackingId=ua%2B09I04Bgz%2F15CJAGR07Q%3D%3D&position=7&pageNum=5&trk=public_jobs_jserp-result_search-card',\n",
       " 'https://de.linkedin.com/jobs/view/marketing-analyst-bangkok-based-relocation-provided-at-agoda-3727085744?refId=6Xxj7IpWCtVWu8WwdjPbVA%3D%3D&trackingId=gFGbhePNbDHv%2BNWGVS2lwQ%3D%3D&position=8&pageNum=5&trk=public_jobs_jserp-result_search-card',\n",
       " 'https://de.linkedin.com/jobs/view/senior-insight-market-research-specialist-de-german-speaking-m-f-d-at-dcmn-3795332729?refId=6Xxj7IpWCtVWu8WwdjPbVA%3D%3D&trackingId=RgObXsNj4rWyCYTotQwZJg%3D%3D&position=9&pageNum=5&trk=public_jobs_jserp-result_search-card',\n",
       " 'https://de.linkedin.com/jobs/view/business-analyst-m-w-d-at-odoo-3784008564?refId=6Xxj7IpWCtVWu8WwdjPbVA%3D%3D&trackingId=ZVaUS1VaX4%2BfMt93boqihQ%3D%3D&position=10&pageNum=5&trk=public_jobs_jserp-result_search-card',\n",
       " 'https://de.linkedin.com/jobs/view/duales-studium-e-commerce-b-a-am-campus-oder-online-at-iu-internationale-hochschule-3802361980?refId=6Xxj7IpWCtVWu8WwdjPbVA%3D%3D&trackingId=tKjOPfTil5lgqC2toc4%2Fug%3D%3D&position=11&pageNum=5&trk=public_jobs_jserp-result_search-card',\n",
       " 'https://de.linkedin.com/jobs/view/junior-digital-analyst-m-w-d-at-peak-ace-ag-3797057707?refId=6Xxj7IpWCtVWu8WwdjPbVA%3D%3D&trackingId=1PH8M09XZndSlnPFTKN%2F8w%3D%3D&position=12&pageNum=5&trk=public_jobs_jserp-result_search-card',\n",
       " 'https://de.linkedin.com/jobs/view/duales-studium-kindheitsp%C3%A4dagogik-b-a-am-campus-oder-online-at-iu-internationale-hochschule-3802368748?refId=6Xxj7IpWCtVWu8WwdjPbVA%3D%3D&trackingId=yM8SVmRG27op%2BIsCqQZHwA%3D%3D&position=14&pageNum=5&trk=public_jobs_jserp-result_search-card',\n",
       " 'https://de.linkedin.com/jobs/view/senior-marketing-analyst-f-m-d-at-gotphoto-com-fotograf-de-3731197233?refId=6Xxj7IpWCtVWu8WwdjPbVA%3D%3D&trackingId=F33vwxgOt6LaOlSJTtrHHw%3D%3D&position=15&pageNum=5&trk=public_jobs_jserp-result_search-card',\n",
       " 'https://de.linkedin.com/jobs/view/cyber-security-solution-specialist-business-analyst-requirements-analysis-change-management-m-f-d-at-workwise-3748612214?refId=6Xxj7IpWCtVWu8WwdjPbVA%3D%3D&trackingId=84qIvvviTZ2Fuu%2FJaw3Yzw%3D%3D&position=16&pageNum=5&trk=public_jobs_jserp-result_search-card',\n",
       " 'https://de.linkedin.com/jobs/view/senior-data-analyst-bi-expert-all-genders-at-primal-state-performance-gmbh-3784021378?refId=6Xxj7IpWCtVWu8WwdjPbVA%3D%3D&trackingId=tBKzpR2tcHBh3Wal6s4%2BCQ%3D%3D&position=17&pageNum=5&trk=public_jobs_jserp-result_search-card',\n",
       " 'https://de.linkedin.com/jobs/view/berater-technology-business-analysis-technology-transformation-w-m-d-at-ey-3706663482?refId=6Xxj7IpWCtVWu8WwdjPbVA%3D%3D&trackingId=9qLwC8UbcbUHZqIvBiv8mQ%3D%3D&position=18&pageNum=5&trk=public_jobs_jserp-result_search-card',\n",
       " 'https://de.linkedin.com/jobs/view/business-analyst-renewables-all-genders-at-saxovent-smart-eco-investments-gmbh-3803170693?refId=6Xxj7IpWCtVWu8WwdjPbVA%3D%3D&trackingId=mcgn096BiIiJTru3%2FUsoUg%3D%3D&position=19&pageNum=5&trk=public_jobs_jserp-result_search-card',\n",
       " 'https://de.linkedin.com/jobs/view/growth-expansion-analyst-w-m-d-at-enpal-montage-gmbh-3775739761?refId=6Xxj7IpWCtVWu8WwdjPbVA%3D%3D&trackingId=xzO9%2FBxOK%2BCW8%2BE2thOQCw%3D%3D&position=20&pageNum=5&trk=public_jobs_jserp-result_search-card',\n",
       " 'https://de.linkedin.com/jobs/view/business-analyst-transmission-systeme-m-w-d-at-bwi-gmbh-3789846466?refId=6Xxj7IpWCtVWu8WwdjPbVA%3D%3D&trackingId=fy43se2hE9em%2FW3jdJ8UGQ%3D%3D&position=22&pageNum=5&trk=public_jobs_jserp-result_search-card',\n",
       " 'https://de.linkedin.com/jobs/view/performance-marketing-manager-sea-%E2%80%93-deutsch-m-w-d-at-home24-se-3790657658?refId=6Xxj7IpWCtVWu8WwdjPbVA%3D%3D&trackingId=f%2BlvVUwDEGKbKfvpANfDYg%3D%3D&position=23&pageNum=5&trk=public_jobs_jserp-result_search-card']"
      ]
     },
     "execution_count": 20,
     "metadata": {},
     "output_type": "execute_result"
    }
   ],
   "source": [
    "hrefList"
   ]
  },
  {
   "cell_type": "code",
   "execution_count": 21,
   "metadata": {},
   "outputs": [],
   "source": [
    "linklist=pd.DataFrame(hrefList,columns=[\"joblinks\"])"
   ]
  },
  {
   "cell_type": "code",
   "execution_count": 22,
   "metadata": {},
   "outputs": [],
   "source": [
    "linklist.to_csv('linkedinJobLinks.csv')"
   ]
  },
  {
   "cell_type": "code",
   "execution_count": 23,
   "metadata": {},
   "outputs": [],
   "source": [
    "#Close the driver\n",
    "\n",
    "driver.close()"
   ]
  }
 ],
 "metadata": {
  "kernelspec": {
   "display_name": "Python 3 (ipykernel)",
   "language": "python",
   "name": "python3"
  },
  "language_info": {
   "codemirror_mode": {
    "name": "ipython",
    "version": 3
   },
   "file_extension": ".py",
   "mimetype": "text/x-python",
   "name": "python",
   "nbconvert_exporter": "python",
   "pygments_lexer": "ipython3",
   "version": "3.11.7"
  }
 },
 "nbformat": 4,
 "nbformat_minor": 4
}
